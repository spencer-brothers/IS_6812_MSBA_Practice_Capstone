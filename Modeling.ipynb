{
  "cells": [
    {
      "cell_type": "markdown",
      "source": [
        "# Modeling"
      ],
      "metadata": {
        "id": "AIDyCwD89nwQ"
      },
      "id": "AIDyCwD89nwQ"
    }
  ],
  "metadata": {
    "colab": {
      "provenance": []
    }
  },
  "nbformat": 4,
  "nbformat_minor": 5
}