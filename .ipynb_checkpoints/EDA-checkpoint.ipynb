{
 "cells": [
  {
   "cell_type": "markdown",
   "id": "23c0da0e-e696-4020-82dc-1eb279354200",
   "metadata": {},
   "source": [
    "# Exploratory Data Analysis\n",
    "\n",
    "Spencer Brothers\n",
    "\n",
    "IS 6812 Spring 2025"
   ]
  },
  {
   "cell_type": "code",
   "execution_count": 6,
   "id": "11bc9936-e4c3-4ab5-9432-c813f1261c1b",
   "metadata": {},
   "outputs": [],
   "source": [
    "import pandas as pd\n",
    "import numpy as np\n",
    "import matplotlib.pyplot as plt\n",
    "%matplotlib inline"
   ]
  },
  {
   "cell_type": "markdown",
   "id": "f7472a91-c98c-4d83-8035-a82652b46089",
   "metadata": {},
   "source": [
    "# Tasks (Delete this section once finished)\n",
    "\n",
    "- TODO: Explore the relationship between target and predictors, looking for potentially strong predictors that could be included later in a model.\n",
    "    - The skimr package in R has some great data exploration tools, and the janitor package has utilities that will simplify data cleaning.\n",
    "- TODO: Explore the scope of missing data in application_{train|test}.csv and come up with possible solutions. Remove rows?  Remove columns?  Impute?\n",
    "- TODO: Be alert to problems in the data.  Do the values make sense? Are there mistaken values that should be cleaned or imputed? (Note that outliers are not necessarily mistakes. Check APM for advice on how to handle outliers for a predictive project.) Are there columns with near-zero or zero variance?\n",
    "- TODO: Will the input data need to be transformed in order to be used in a model? You might answer this question differently for different models. (For example, some models might accept factor variables, others might not.) You can put off answering this question for now,  but you should begin thinking about it. Check APM for advice.\n",
    "- TODO: Join application_{train|test}.csv with transactional data in, for example, bureau.csv or previous_application.csv. This will require aggregating the transactional data to have the same grain as the application data.\n",
    "- TODO: Explore the joined transactional data.  Do some of the added columns show promise in predicting default?\n",
    "- TODO: reiterate business problem statement after\n",
    "\n",
    "# Exploring the Target Variable\n",
    "\n",
    "Because application_test.csv is the same schema as the train file (without the target), we'll look at the train file only."
   ]
  },
  {
   "cell_type": "code",
   "execution_count": 26,
   "id": "ba2e5574-509f-4109-a577-4164b4c6bc72",
   "metadata": {
    "editable": true,
    "slideshow": {
     "slide_type": ""
    },
    "tags": []
   },
   "outputs": [
    {
     "name": "stdout",
     "output_type": "stream",
     "text": [
      "<class 'pandas.core.frame.DataFrame'>\n",
      "RangeIndex: 307511 entries, 0 to 307510\n",
      "Columns: 122 entries, SK_ID_CURR to AMT_REQ_CREDIT_BUREAU_YEAR\n",
      "dtypes: float64(65), int64(41), object(16)\n",
      "memory usage: 286.2+ MB\n"
     ]
    }
   ],
   "source": [
    "# read the main file with the target into a pandas dataframe\n",
    "app_train = pd.read_csv('data/application_train.csv')\n",
    "# get info on the table\n",
    "app_train.info()"
   ]
  },
  {
   "cell_type": "markdown",
   "id": "f426dca6-e2b8-40d9-98c7-9201b16e5e90",
   "metadata": {
    "editable": true,
    "slideshow": {
     "slide_type": ""
    },
    "tags": []
   },
   "source": [
    "There are 122 columns in this table and 307511 rows. Many columns are just checking if applicants submitted certain documents (according to kaggle). The object dtype columns are really strings. Let's take a closer look at the target."
   ]
  },
  {
   "cell_type": "code",
   "execution_count": 59,
   "id": "6484fc7e-eafd-4f3d-b907-b95a317081c3",
   "metadata": {},
   "outputs": [
    {
     "name": "stdout",
     "output_type": "stream",
     "text": [
      "   counts  proportions\n",
      "0  282686     0.919271\n",
      "1   24825     0.080729\n"
     ]
    },
    {
     "data": {
      "image/png": "[encoded data removed]",
      "text/plain": [
       "<Figure size 640x480 with 1 Axes>"
      ]
     },
     "metadata": {},
     "output_type": "display_data"
    }
   ],
   "source": [
    "# Find the distribution of the target variable\n",
    "target_dist = app_train.value_counts('TARGET')\n",
    "target_props = pd.DataFrame({\n",
    "    'counts': target_dist.values,\n",
    "    'proportions': target_dist.values/len(app_train)})\n",
    "print(target_props)\n",
    "# plot the proportions\n",
    "plt.bar(target_props.index.astype(str),target_props['proportions'])\n",
    "plt.title('Proportions of target variables')\n",
    "plt.xlabel('Default')\n",
    "plt.show()"
   ]
  },
  {
   "cell_type": "markdown",
   "id": "d8472079-d023-45a2-ad17-ceea3070c577",
   "metadata": {},
   "source": [
    "There's a very large imbalance in the target classes, with only about 8.1% of applicants defaulting. A simple majority class classifier would classify all applicants as not defaulting (with an accuracy of about 91.9%), which would be detrimental to the applicants who would default as well as Home Credit. "
   ]
  }
 ],
 "metadata": {
  "kernelspec": {
   "display_name": "Python [conda env:base] *",
   "language": "python",
   "name": "conda-base-py"
  },
  "language_info": {
   "codemirror_mode": {
    "name": "ipython",
    "version": 3
   },
   "file_extension": ".py",
   "mimetype": "text/x-python",
   "name": "python",
   "nbconvert_exporter": "python",
   "pygments_lexer": "ipython3",
   "version": "3.12.7"
  }
 },
 "nbformat": 4,
 "nbformat_minor": 5
}
