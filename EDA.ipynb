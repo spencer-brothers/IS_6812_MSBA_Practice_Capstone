{
 "cells": [
  {
   "cell_type": "markdown",
   "id": "f7472a91-c98c-4d83-8035-a82652b46089",
   "metadata": {},
   "source": [
    "# Exploratory Data Analysis\n",
    "\n",
    "Spencer Brothers\n",
    "\n",
    "IS 6812 Spring 2025\n"
   ]
  }
 ],
 "metadata": {
  "kernelspec": {
   "display_name": "Python [conda env:base] *",
   "language": "python",
   "name": "conda-base-py"
  },
  "language_info": {
   "codemirror_mode": {
    "name": "ipython",
    "version": 3
   },
   "file_extension": ".py",
   "mimetype": "text/x-python",
   "name": "python",
   "nbconvert_exporter": "python",
   "pygments_lexer": "ipython3",
   "version": "3.12.7"
  }
 },
 "nbformat": 4,
 "nbformat_minor": 5
}
